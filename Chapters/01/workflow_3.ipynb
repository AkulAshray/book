{
 "cells": [
  {
   "cell_type": "code",
   "execution_count": 2,
   "metadata": {
    "collapsed": true,
    "tags": [
     "hide-output",
     "hide-input"
    ]
   },
   "outputs": [
    {
     "name": "stdout",
     "output_type": "stream",
     "text": [
      "Collecting metakernel\n",
      "  Downloading metakernel-0.27.5-py2.py3-none-any.whl (208 kB)\n",
      "\u001b[K     |████████████████████████████████| 208 kB 1.4 MB/s eta 0:00:01\n",
      "\u001b[?25hRequirement already satisfied: ipykernel in /Applications/anaconda3/lib/python3.8/site-packages (from metakernel) (5.3.4)\n",
      "Requirement already satisfied: pexpect>=4.2 in /Applications/anaconda3/lib/python3.8/site-packages (from metakernel) (4.8.0)\n",
      "Requirement already satisfied: ipython>=5.0.0 in /Applications/anaconda3/lib/python3.8/site-packages (from ipykernel->metakernel) (7.19.0)\n",
      "Requirement already satisfied: tornado>=4.2 in /Applications/anaconda3/lib/python3.8/site-packages (from ipykernel->metakernel) (6.0.4)\n",
      "Requirement already satisfied: appnope; platform_system == \"Darwin\" in /Applications/anaconda3/lib/python3.8/site-packages (from ipykernel->metakernel) (0.1.0)\n",
      "Requirement already satisfied: jupyter-client in /Applications/anaconda3/lib/python3.8/site-packages (from ipykernel->metakernel) (6.1.7)\n",
      "Requirement already satisfied: traitlets>=4.1.0 in /Applications/anaconda3/lib/python3.8/site-packages (from ipykernel->metakernel) (4.3.3)\n",
      "Requirement already satisfied: ptyprocess>=0.5 in /Applications/anaconda3/lib/python3.8/site-packages (from pexpect>=4.2->metakernel) (0.6.0)\n",
      "Requirement already satisfied: setuptools>=18.5 in /Applications/anaconda3/lib/python3.8/site-packages (from ipython>=5.0.0->ipykernel->metakernel) (50.3.1.post20201107)\n",
      "Requirement already satisfied: backcall in /Applications/anaconda3/lib/python3.8/site-packages (from ipython>=5.0.0->ipykernel->metakernel) (0.2.0)\n",
      "Requirement already satisfied: prompt-toolkit!=3.0.0,!=3.0.1,<3.1.0,>=2.0.0 in /Applications/anaconda3/lib/python3.8/site-packages (from ipython>=5.0.0->ipykernel->metakernel) (3.0.8)\n",
      "Requirement already satisfied: jedi>=0.10 in /Applications/anaconda3/lib/python3.8/site-packages (from ipython>=5.0.0->ipykernel->metakernel) (0.17.1)\n",
      "Requirement already satisfied: decorator in /Applications/anaconda3/lib/python3.8/site-packages (from ipython>=5.0.0->ipykernel->metakernel) (4.4.2)\n",
      "Requirement already satisfied: pygments in /Applications/anaconda3/lib/python3.8/site-packages (from ipython>=5.0.0->ipykernel->metakernel) (2.7.2)\n",
      "Requirement already satisfied: pickleshare in /Applications/anaconda3/lib/python3.8/site-packages (from ipython>=5.0.0->ipykernel->metakernel) (0.7.5)\n",
      "Requirement already satisfied: python-dateutil>=2.1 in /Applications/anaconda3/lib/python3.8/site-packages (from jupyter-client->ipykernel->metakernel) (2.8.1)\n",
      "Requirement already satisfied: jupyter-core>=4.6.0 in /Applications/anaconda3/lib/python3.8/site-packages (from jupyter-client->ipykernel->metakernel) (4.6.3)\n",
      "Requirement already satisfied: pyzmq>=13 in /Applications/anaconda3/lib/python3.8/site-packages (from jupyter-client->ipykernel->metakernel) (19.0.2)\n",
      "Requirement already satisfied: six in /Applications/anaconda3/lib/python3.8/site-packages (from traitlets>=4.1.0->ipykernel->metakernel) (1.15.0)\n",
      "Requirement already satisfied: ipython-genutils in /Applications/anaconda3/lib/python3.8/site-packages (from traitlets>=4.1.0->ipykernel->metakernel) (0.2.0)\n",
      "Requirement already satisfied: wcwidth in /Applications/anaconda3/lib/python3.8/site-packages (from prompt-toolkit!=3.0.0,!=3.0.1,<3.1.0,>=2.0.0->ipython>=5.0.0->ipykernel->metakernel) (0.2.5)\n",
      "Requirement already satisfied: parso<0.8.0,>=0.7.0 in /Applications/anaconda3/lib/python3.8/site-packages (from jedi>=0.10->ipython>=5.0.0->ipykernel->metakernel) (0.7.0)\n",
      "Installing collected packages: metakernel\n",
      "Successfully installed metakernel-0.27.5\n"
     ]
    }
   ],
   "source": [
    "!pip install metakernel\n",
    "from metakernel import register_ipython_magics\n",
    "register_ipython_magics()"
   ]
  },
  {
   "cell_type": "code",
   "execution_count": 10,
   "metadata": {},
   "outputs": [
    {
     "data": {
      "text/html": [
       "\n",
       "        <iframe\n",
       "            width=\"100%\"\n",
       "            height=\"500\"\n",
       "            src=\"https://pythontutor.com/iframe-embed.html#code=%0Ax%20%3D%2010%0Ay%20%3D%2042%0Az%20%3D%2023%0A%0Ax%20%3D%20y%20if%20y%20%3C%20z%20else%20z%0A%0Aif%20x%252%20%3D%3D%200%3A%0A%20%20%20%20print%28%27x%20is%20still%20even%27%29%0Aelse%3A%0A%20%20%20%20print%28%27x%20is%20no%20longer%20even%27%29%0Aprint%28%27Done%20with%20code%27%29%0A&origin=opt-frontend.js&cumulative=false&heapPrimitives=false&textReferences=false&py=3&rawInputLstJSON=%5B%5D&curInstr=0&codeDivWidth=350&codeDivHeight=400\"\n",
       "            frameborder=\"0\"\n",
       "            allowfullscreen\n",
       "        ></iframe>\n",
       "        "
      ],
      "text/plain": [
       "<IPython.lib.display.IFrame at 0x7fe2611b9190>"
      ]
     },
     "metadata": {},
     "output_type": "display_data"
    }
   ],
   "source": [
    "%%tutor\n",
    "\n",
    "x = 10\n",
    "y = 42\n",
    "z = 23\n",
    "\n",
    "x = y if y < z else z\n",
    "\n",
    "if x%2 == 0:\n",
    "    print('x is still even')\n",
    "else:\n",
    "    print('x is no longer even')\n",
    "print('Done with code')"
   ]
  },
  {
   "cell_type": "code",
   "execution_count": null,
   "metadata": {},
   "outputs": [],
   "source": []
  }
 ],
 "metadata": {
  "celltoolbar": "Tags",
  "kernelspec": {
   "display_name": "Python 3",
   "language": "python",
   "name": "python3"
  },
  "language_info": {
   "codemirror_mode": {
    "name": "ipython",
    "version": 3
   },
   "file_extension": ".py",
   "mimetype": "text/x-python",
   "name": "python",
   "nbconvert_exporter": "python",
   "pygments_lexer": "ipython3",
   "version": "3.8.5"
  }
 },
 "nbformat": 4,
 "nbformat_minor": 2
}
