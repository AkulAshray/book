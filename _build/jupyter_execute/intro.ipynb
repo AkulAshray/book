{
 "cells": [
  {
   "cell_type": "markdown",
   "metadata": {},
   "source": [
    "# DF Technical Guide\n",
    "<hr style=\"height:1px;border:none;color:#666;background-color:#666;\" />"
   ]
  },
  {
   "cell_type": "markdown",
   "metadata": {},
   "source": [
    "This website is for coaches, with the intended purpose of allowing coaches and associates to learn and work on upskilling their technical skills during independent learning time. You can also search this website if you are only interested to look at specific topic. Since its meant for coaches we take the liberty of going over slightly more advanced concepts which may not be covered with apprentices!!\n",
    "\n",
    "```{figure} datascience.jpg\n",
    "---\n",
    "width: 60%\n",
    "name: Data Science\n",
    "alt: Data Science\n",
    "---\n",
    "**DIKW Pyramid**\n",
    "```\n",
    "\n",
    "We will cover topics across six sections and also add exercises and sample problems to work on:\n",
    "\n",
    "- **Installation of different softwares** (covering how to deal with technical issues)\n",
    "- **Programming in Python**\n",
    "- **Working with relational Databases**\n",
    "- **Data Visualization**\n",
    "- **Statistics and Probabilities**\n",
    "- **Machine Learning**\n",
    "\n",
    "\n",
    "```{note} Please do not share this website with apprentices\n",
    "```"
   ]
  },
  {
   "cell_type": "markdown",
   "metadata": {},
   "source": [
    "\n",
    "```{toctree}\n",
    ":hidden:\n",
    ":titlesonly:\n",
    "\n",
    "\n",
    "Request changes\n",
    "Python editor\n",
    "```\n",
    "\n",
    "\n",
    "```{toctree}\n",
    ":hidden:\n",
    ":titlesonly:\n",
    ":numbered: True\n",
    ":caption: Programming using Python\n",
    "\n",
    "Chapters/01/Workflow_intro\n",
    "Chapters/02/Sequence Type and Methods\n",
    "Chapters/03/Functions and Loops\n",
    "Chapters/04/Introduction to NumPy\n",
    "```\n",
    "\n",
    "\n",
    "```{toctree}\n",
    ":hidden:\n",
    ":titlesonly:\n",
    ":numbered: True\n",
    ":caption: Working with Rectangular Data\n",
    "\n",
    "Chapters/05/Introduction to Pandas\n",
    "Chapters/06/EDA using Pandas\n",
    "Chapters/07/Relational Databases and SQL\n",
    "```\n"
   ]
  }
 ],
 "metadata": {
  "kernelspec": {
   "display_name": "Python 3",
   "language": "python",
   "name": "python3"
  },
  "language_info": {
   "codemirror_mode": {
    "name": "ipython",
    "version": 3
   },
   "file_extension": ".py",
   "mimetype": "text/x-python",
   "name": "python",
   "nbconvert_exporter": "python",
   "pygments_lexer": "ipython3",
   "version": "3.8.5"
  }
 },
 "nbformat": 4,
 "nbformat_minor": 2
}