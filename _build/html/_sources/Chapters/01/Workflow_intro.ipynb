{
 "cells": [
  {
   "cell_type": "code",
   "execution_count": 1,
   "metadata": {
    "tags": [
     "remove-cell"
    ]
   },
   "outputs": [],
   "source": [
    "# Reference: https://jupyterbook.org/interactive/hiding.html\n",
    "# Use {hide, remove}-{input, output, cell} tags to hiding content\n",
    "\n",
    "import numpy as np\n",
    "import matplotlib.pyplot as plt\n",
    "import pandas as pd\n",
    "import seaborn as sns\n",
    "%matplotlib inline\n",
    "import ipywidgets as widgets\n",
    "from ipywidgets import interact, interactive, fixed, interact_manual\n",
    "\n",
    "sns.set()\n",
    "sns.set_context('talk')\n",
    "np.set_printoptions(threshold=20, precision=2, suppress=True)\n",
    "pd.set_option('display.max_rows', 7)\n",
    "pd.set_option('display.max_columns', 8)\n",
    "pd.set_option('precision', 2)\n",
    "# This option stops scientific notation for pandas\n",
    "# pd.set_option('display.float_format', '{:.2f}'.format)\n",
    "\n",
    "def display_df(df, rows=pd.options.display.max_rows,\n",
    "               cols=pd.options.display.max_columns):\n",
    "    with pd.option_context('display.max_rows', rows,\n",
    "                           'display.max_columns', cols):\n",
    "        display(df)"
   ]
  },
  {
   "cell_type": "markdown",
   "metadata": {},
   "source": [
    "# The Data Science Workflow\n",
    "\n",
    "Here's a short video by DataBrew:\n",
    "\n",
    "<iframe width=\"560\" height=\"315\" src=\"https://www.youtube.com/embed/5I2bYqeFQy4\" title=\"Data Life Cycle\" frameborder=\"0\" allow=\"accelerometer; autoplay; clipboard-write; encrypted-media; gyroscope; picture-in-picture\" allowfullscreen></iframe>\n",
    "\n",
    "In data science, we use large and diverse data sets to make conclusions about\n",
    "the world. In this book we discuss principles and techniques of\n",
    "data science through the two lens, from the perspective of computational thinking and then from inferential thinking.\n",
    "Practically speaking, this involves the following process:\n",
    "\n",
    "1. Formulating a question or problem (Planning)\n",
    "2. Acquiring and cleaning data (Preparation)\n",
    "3. Conducting exploratory data analysis (Analysis)\n",
    "4. Using prediction and inference to draw conclusions and model data (Modelling)\n",
    "5. Evalutating different models and selecting the appropriate one (Compare and Refine)\n",
    "6. Communicating your findings\n",
    "\n",
    "It is quite common for more questions and problems to emerge after step 4 and 5 of \n",
    "this process, so we often think of a Data Scientists workflow as being iterative and non linear. \n",
    "This positive feedback loop is so central to our work that we call it the **data analytics/ science lifecycle**.\n",
    "\n",
    "While simple to state, the data science lifecycle takes training and practice\n",
    "to do well. In fact, each topic in this book revolves around a piece of this\n",
    "lifecycle. We will get started with learning the essential concepts of computational thinking\n",
    "so you can be skillful at making productive use of computational techniques. You will learn how to use\n",
    "computational modes of thought to frame problems, to build computational models, and to guide the process\n",
    "of extracting information from data. We cover most of Python's features, but the emphasis is on what one can do with a programming language and not on the language itself."
   ]
  },
  {
   "cell_type": "code",
   "execution_count": null,
   "metadata": {},
   "outputs": [],
   "source": []
  }
 ],
 "metadata": {
  "kernelspec": {
   "display_name": "Python 3",
   "language": "python",
   "name": "python3"
  },
  "language_info": {
   "codemirror_mode": {
    "name": "ipython",
    "version": 3
   },
   "file_extension": ".py",
   "mimetype": "text/x-python",
   "name": "python",
   "nbconvert_exporter": "python",
   "pygments_lexer": "ipython3",
   "version": "3.8.5"
  }
 },
 "nbformat": 4,
 "nbformat_minor": 2
}
